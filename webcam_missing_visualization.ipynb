{
 "cells": [
  {
   "cell_type": "markdown",
   "metadata": {},
   "source": [
    "# Webcam Missing Visualization #"
   ]
  },
  {
   "cell_type": "code",
   "execution_count": null,
   "metadata": {},
   "outputs": [],
   "source": [
    "import pandas as pd\n",
    "import matplotlib.pyplot as plt\n",
    "%matplotlib inline"
   ]
  },
  {
   "cell_type": "code",
   "execution_count": null,
   "metadata": {},
   "outputs": [],
   "source": [
    "#cams\n",
    "cams = ['CVTP', 'CVWF', 'MTSR','N', 'P', 'R', 'RIMM', 'T', 'TOPI', 'TOTM', 'WHWI', 'WINR', 'WIWR']\n",
    "\n",
    "#maximum possible number of images for 10 min sampling (in a day)\n",
    "maximg = 144"
   ]
  },
  {
   "cell_type": "code",
   "execution_count": null,
   "metadata": {},
   "outputs": [],
   "source": [
    "missing = pd.read_csv('webcam_missing.csv', parse_dates=['date'])\n",
    "missing.head()"
   ]
  },
  {
   "cell_type": "code",
   "execution_count": null,
   "metadata": {},
   "outputs": [],
   "source": [
    "missingdata = missing.pivot_table(index='date', columns=['cam'])\n",
    "missingdata.head()"
   ]
  },
  {
   "cell_type": "markdown",
   "metadata": {},
   "source": [
    "**Basic plot**"
   ]
  },
  {
   "cell_type": "code",
   "execution_count": null,
   "metadata": {},
   "outputs": [],
   "source": [
    "ax = missingdata.plot(figsize=(20,10))\n",
    "ax.set_ylabel('number of missing images')\n",
    "ax.set_title('Images missing, by cam and day')\n",
    "fig = ax.get_figure()\n",
    "fig.savefig('webcam_missing.png')"
   ]
  },
  {
   "cell_type": "markdown",
   "metadata": {},
   "source": [
    "**Data percentage**"
   ]
  },
  {
   "cell_type": "code",
   "execution_count": null,
   "metadata": {},
   "outputs": [],
   "source": [
    "percent = pd.DataFrame()"
   ]
  },
  {
   "cell_type": "code",
   "execution_count": null,
   "metadata": {},
   "outputs": [],
   "source": [
    "#number of days of data\n",
    "ndays = len(missingdata)"
   ]
  },
  {
   "cell_type": "code",
   "execution_count": null,
   "metadata": {},
   "outputs": [],
   "source": [
    "#loop through cams, calculating percentage\n",
    "for cam in cams:\n",
    "    sum = missingdata.missing[cam].sum()\n",
    "    pc = sum / float(ndays*maximg) * 100\n",
    "    percent = percent.append({'cam':cam, 'percent':pc}, ignore_index=True)\n",
    "\n",
    "percent.set_index('cam', inplace=True)"
   ]
  },
  {
   "cell_type": "code",
   "execution_count": null,
   "metadata": {},
   "outputs": [],
   "source": [
    "ax = percent.plot.bar()\n",
    "ax.set_ylabel('percent missing')\n",
    "ax.set_title('Percent of total missing by cam')\n",
    "fig = ax.get_figure()\n",
    "fig.savefig('webcam_percent_total_missing.png')"
   ]
  },
  {
   "cell_type": "markdown",
   "metadata": {},
   "source": [
    "**Number cams with more than ceratin number missing each day**"
   ]
  },
  {
   "cell_type": "code",
   "execution_count": null,
   "metadata": {},
   "outputs": [],
   "source": [
    "nmiss = maximg*0.1 #10%"
   ]
  },
  {
   "cell_type": "code",
   "execution_count": null,
   "metadata": {},
   "outputs": [],
   "source": [
    "threshold = missingdata.missing>nmiss"
   ]
  },
  {
   "cell_type": "code",
   "execution_count": null,
   "metadata": {},
   "outputs": [],
   "source": [
    "ax = threshold.sum(axis=1).plot(figsize=(20,10))\n",
    "ax.set_ylabel('number of cams')\n",
    "ax.set_title('Number cams missing more than 10% of images')\n",
    "fig = ax.get_figure()\n",
    "fig.savefig('webcam_missing_more_10pc.png')"
   ]
  }
 ],
 "metadata": {
  "kernelspec": {
   "display_name": "Python 3",
   "language": "python",
   "name": "python3"
  },
  "language_info": {
   "codemirror_mode": {
    "name": "ipython",
    "version": 3
   },
   "file_extension": ".py",
   "mimetype": "text/x-python",
   "name": "python",
   "nbconvert_exporter": "python",
   "pygments_lexer": "ipython3",
   "version": "3.6.7"
  }
 },
 "nbformat": 4,
 "nbformat_minor": 2
}
