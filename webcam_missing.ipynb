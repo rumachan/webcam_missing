{
 "cells": [
  {
   "cell_type": "markdown",
   "metadata": {},
   "source": [
    "Webcam Missing Images\n",
    "--\n",
    "\n",
    "Just do the data collection"
   ]
  },
  {
   "cell_type": "code",
   "execution_count": null,
   "metadata": {},
   "outputs": [],
   "source": [
    "%%javascript\n",
    "IPython.OutputArea.prototype._should_scroll = function(lines) {\n",
    "    return false;\n",
    "}"
   ]
  },
  {
   "cell_type": "code",
   "execution_count": null,
   "metadata": {},
   "outputs": [],
   "source": [
    "import os\n",
    "from datetime import datetime\n",
    "import pandas as pd\n",
    "import matplotlib.pyplot as plt\n",
    "\n",
    "%matplotlib inline"
   ]
  },
  {
   "cell_type": "markdown",
   "metadata": {},
   "source": [
    "**Setup parameters**"
   ]
  },
  {
   "cell_type": "code",
   "execution_count": null,
   "metadata": {},
   "outputs": [],
   "source": [
    "#webcam folder\n",
    "imgdir = '/run/user/4007/gvfs/ftp:host=ftp.geonet.org.nz/volcano_cams'"
   ]
  },
  {
   "cell_type": "code",
   "execution_count": null,
   "metadata": {},
   "outputs": [],
   "source": [
    "#cams list to check\n",
    "cams = ['CVTP', 'CVWF', 'MTSR','N', 'P', 'R', 'RIMM', 'T', 'TOPI', 'TOTM', 'WHWI', 'WINR', 'WIWR']"
   ]
  },
  {
   "cell_type": "code",
   "execution_count": null,
   "metadata": {},
   "outputs": [],
   "source": [
    "#maximum possible number of images for 10 min sampling (in a day)\n",
    "maximg = 144"
   ]
  },
  {
   "cell_type": "code",
   "execution_count": null,
   "metadata": {},
   "outputs": [],
   "source": [
    "#first and last dates to check\n",
    "date1 = '2018-01-01'\n",
    "date2 = '2019-01-08'\n",
    "\n",
    "dstart = datetime.strptime(date1, '%Y-%m-%d')\n",
    "dend = datetime.strptime(date2, '%Y-%m-%d')\n",
    "dates = pd.date_range(start=dstart, end=dend, freq='1D')\n",
    "\n",
    "#number of days\n",
    "ndays = (dend - dstart).days + 1"
   ]
  },
  {
   "cell_type": "markdown",
   "metadata": {},
   "source": [
    "**Store image search results in a pandas dataframe for easy manipulation**"
   ]
  },
  {
   "cell_type": "code",
   "execution_count": null,
   "metadata": {},
   "outputs": [],
   "source": [
    "images = pd.DataFrame()"
   ]
  },
  {
   "cell_type": "markdown",
   "metadata": {},
   "source": [
    "**Loop through files, adding information to dataframe if a file is found**"
   ]
  },
  {
   "cell_type": "code",
   "execution_count": null,
   "metadata": {},
   "outputs": [],
   "source": [
    "if os.path.isdir(imgdir):\n",
    "    #image folder exists, start processing\n",
    "    for date in dates:\n",
    "        print (date)\n",
    "        year = str(date.timetuple().tm_year)\n",
    "        month = str(date.timetuple().tm_mon).zfill(2)\n",
    "        day = str(date.timetuple().tm_mday).zfill(2)\n",
    "        d = year+month+day\n",
    "        ddir = os.path.join(imgdir, year, d)\n",
    "        for cam in cams:\n",
    "            camdir = os.path.join(ddir, cam)\n",
    "            if os.path.isdir(camdir):\n",
    "                imgfiles = next(os.walk(camdir))[2]\n",
    "                missing = maximg - len(imgfiles)\n",
    "                #print (date, cam)\n",
    "                images = images.append({'date':date, 'cam':cam, 'missing':missing}, ignore_index=True)\n",
    "else:\n",
    "    print ('error: image folder does not exist')\n"
   ]
  },
  {
   "cell_type": "code",
   "execution_count": null,
   "metadata": {},
   "outputs": [],
   "source": [
    "images.to_csv('webcam_missing.csv', index=False)"
   ]
  }
 ],
 "metadata": {
  "kernelspec": {
   "display_name": "Python 3",
   "language": "python",
   "name": "python3"
  },
  "language_info": {
   "codemirror_mode": {
    "name": "ipython",
    "version": 3
   },
   "file_extension": ".py",
   "mimetype": "text/x-python",
   "name": "python",
   "nbconvert_exporter": "python",
   "pygments_lexer": "ipython3",
   "version": "3.6.7"
  }
 },
 "nbformat": 4,
 "nbformat_minor": 2
}
